{
 "cells": [
  {
   "cell_type": "code",
   "execution_count": 11,
   "id": "5ea74928",
   "metadata": {},
   "outputs": [],
   "source": [
    "import pandas as pd\n",
    "import matplotlib.pyplot as plt\n",
    "import seaborn as sns\n",
    "import numpy as np\n",
    "from scipy.stats import levene\n",
    "from scipy.stats import ttest_ind\n"
   ]
  },
  {
   "cell_type": "code",
   "execution_count": 5,
   "id": "e60e5caf",
   "metadata": {},
   "outputs": [],
   "source": [
    "data = pd.read_csv(\"../data/CHURN_FEATURES.csv\")\n",
    "data = data.drop(columns=[\n",
    "    'ID_VENDEDOR',\n",
    "    'ID_CAMPANA',\n",
    "    'ID_VENDEDOR.1',\n",
    "    'ID_CAMPANA.1',\n",
    "    'ID_VENDEDOR.2',\n",
    "    'ID_CAMPANA.2',\n",
    "    'ID_UBICACION',\n",
    "    'ID_VENDEDOR.3',\n",
    "    'ID_CAMPANA.3',\n",
    "    'ID_VENDEDOR.4',\n",
    "    'ID_CAMPANA.4',\n",
    "    'ID_VENDEDOR.5',\n",
    "    'ID_CAMPANA.5',\n",
    "    'NUMERO_CAMPANA',\n",
    "    'NUMERO_CAMPANA.1',\n",
    "    'PROVINCIA',\n",
    "    'DISTRITO',\n",
    "    'ANIO'\n",
    "])\n",
    "\n",
    "data.drop(columns=['EDAD_VENDEDORA'], inplace=True, axis=1)\n",
    "data['ANTIGUEDAD_MESES'] = data['ANTIGUEDAD_MESES'].clip(lower=0)\n",
    "data.dropna(inplace=True)"
   ]
  },
  {
   "cell_type": "code",
   "execution_count": 10,
   "id": "91dc3318",
   "metadata": {},
   "outputs": [
    {
     "data": {
      "image/png": "[encoded data removed]",
      "text/plain": [
       "<Figure size 800x500 with 1 Axes>"
      ]
     },
     "metadata": {},
     "output_type": "display_data"
    }
   ],
   "source": [
    "import matplotlib.pyplot as plt\n",
    "import seaborn as sns\n",
    "\n",
    "plt.figure(figsize=(8, 5))\n",
    "sns.set_style(\"whitegrid\")\n",
    "\n",
    "# Plot\n",
    "ax = sns.countplot(\n",
    "    x='ES_NUEVA',\n",
    "    data=data,\n",
    "    hue='TARGET_CHURN',\n",
    "    palette='Set2',\n",
    "    edgecolor='black'\n",
    ")\n",
    "\n",
    "# Titles and labels\n",
    "ax.set_title('Distribution of New Sellers vs Churn', fontsize=14, weight='bold')\n",
    "ax.set_xlabel('Is New Seller?', fontsize=12)\n",
    "ax.set_ylabel('Number of Sellers', fontsize=12)\n",
    "ax.legend(title='Churn', labels=['No', 'Yes'])\n",
    "\n",
    "# Annotate bar values\n",
    "for p in ax.patches:\n",
    "    height = p.get_height()\n",
    "    if height > 0:\n",
    "        ax.annotate(f'{int(height)}', (p.get_x() + p.get_width() / 2., height),\n",
    "                    ha='center', va='bottom', fontsize=10, color='black')\n",
    "\n",
    "plt.tight_layout()\n",
    "plt.show()\n"
   ]
  },
  {
   "cell_type": "markdown",
   "id": "70af061d",
   "metadata": {},
   "source": [
    "Statistical Testing – Levene’s Test (Variance Equality)\n",
    "\n",
    "H₀ (Null Hypothesis):\n",
    "The variance of customer tenure (in months) is equal for churned and non-churned customers.\n",
    "\n",
    "H₁ (Alternative Hypothesis):\n",
    "The variance of customer tenure (in months) is different between churned and non-churned customers."
   ]
  },
  {
   "cell_type": "code",
   "execution_count": 8,
   "id": "c46cee69",
   "metadata": {},
   "outputs": [
    {
     "name": "stdout",
     "output_type": "stream",
     "text": [
      "Levene’s test statistic: 16.080\n",
      "p-value: 0.00006\n",
      "❌ Reject H₀: The variances are significantly different.\n"
     ]
    }
   ],
   "source": [
    "from scipy.stats import levene\n",
    "\n",
    "# Define tenure series for churned and non-churned customers\n",
    "churn = data[data['TARGET_CHURN'] == 1]['ANTIGUEDAD_MESES']\n",
    "no_churn = data[data['TARGET_CHURN'] == 0]['ANTIGUEDAD_MESES']\n",
    "\n",
    "# Perform Levene's Test for equality of variances\n",
    "stat, p = levene(churn, no_churn)\n",
    "\n",
    "print(f\"Levene’s test statistic: {stat:.3f}\")\n",
    "print(f\"p-value: {p:.5f}\")\n",
    "\n",
    "# Interpretation\n",
    "alpha = 0.05\n",
    "if p < alpha:\n",
    "    print(\"❌ Reject H₀: The variances are significantly different.\")\n",
    "else:\n",
    "    print(\"✅ Fail to reject H₀: We assume equal variances.\")\n"
   ]
  },
  {
   "cell_type": "markdown",
   "id": "11f09bd7",
   "metadata": {},
   "source": [
    "Statistical Testing – One-sided t-test (Independent Samples)\n",
    "\n",
    "H₀ (Null Hypothesis): The average tenure (in months) of churned customers is greater than or equal to that of non-churned customers.\n",
    "\n",
    "H₁ (Alternative Hypothesis): The average tenure of churned customers is less than that of non-churned customers."
   ]
  },
  {
   "cell_type": "code",
   "execution_count": 9,
   "id": "f8b0ce2e",
   "metadata": {},
   "outputs": [
    {
     "name": "stdout",
     "output_type": "stream",
     "text": [
      "t-statistic: -11.710\n",
      "One-sided p-value: 0.00000\n",
      "✅ Reject H₀: Churned customers have significantly lower tenure.\n"
     ]
    }
   ],
   "source": [
    "# Perform independent t-test (Welch's test since equal_var=False)\n",
    "t_stat, p_value = ttest_ind(churn, no_churn, equal_var=False)\n",
    "\n",
    "# One-tailed test: H₁ is churned customers have lower tenure\n",
    "p_value_one_sided = p_value / 2\n",
    "\n",
    "print(f\"t-statistic: {t_stat:.3f}\")\n",
    "print(f\"One-sided p-value: {p_value_one_sided:.5f}\")\n",
    "\n",
    "# Interpretation\n",
    "alpha = 0.05\n",
    "if (t_stat < 0) and (p_value_one_sided < alpha):\n",
    "    print(\"✅ Reject H₀: Churned customers have significantly lower tenure.\")\n",
    "else:\n",
    "    print(\"❌ Fail to reject H₀: There is not enough evidence that they have lower tenure.\")\n"
   ]
  }
 ],
 "metadata": {
  "kernelspec": {
   "display_name": "MITxPRO",
   "language": "python",
   "name": "python3"
  },
  "language_info": {
   "codemirror_mode": {
    "name": "ipython",
    "version": 3
   },
   "file_extension": ".py",
   "mimetype": "text/x-python",
   "name": "python",
   "nbconvert_exporter": "python",
   "pygments_lexer": "ipython3",
   "version": "3.12.9"
  }
 },
 "nbformat": 4,
 "nbformat_minor": 5
}
